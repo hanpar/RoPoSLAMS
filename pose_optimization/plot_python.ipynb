{
 "cells": [
  {
   "cell_type": "code",
   "execution_count": 2,
   "metadata": {},
   "outputs": [
    {
     "ename": "FileNotFoundError",
     "evalue": "[Errno 2] No such file or directory: './data/KittiGps_converted.txt'",
     "output_type": "error",
     "traceback": [
      "\u001b[1;31m---------------------------------------------------------------------------\u001b[0m",
      "\u001b[1;31mFileNotFoundError\u001b[0m                         Traceback (most recent call last)",
      "\u001b[1;32m~\\AppData\\Local\\Temp/ipykernel_23180/2555301027.py\u001b[0m in \u001b[0;36m<module>\u001b[1;34m\u001b[0m\n\u001b[0;32m      7\u001b[0m \u001b[0my\u001b[0m \u001b[1;33m=\u001b[0m \u001b[1;33m[\u001b[0m\u001b[1;33m]\u001b[0m\u001b[1;33m\u001b[0m\u001b[1;33m\u001b[0m\u001b[0m\n\u001b[0;32m      8\u001b[0m \u001b[0mt\u001b[0m \u001b[1;33m=\u001b[0m \u001b[1;33m[\u001b[0m\u001b[1;33m]\u001b[0m\u001b[1;33m\u001b[0m\u001b[1;33m\u001b[0m\u001b[0m\n\u001b[1;32m----> 9\u001b[1;33m \u001b[1;32mwith\u001b[0m \u001b[0mopen\u001b[0m\u001b[1;33m(\u001b[0m\u001b[0mfilename\u001b[0m\u001b[1;33m)\u001b[0m \u001b[1;32mas\u001b[0m \u001b[0mf\u001b[0m\u001b[1;33m:\u001b[0m\u001b[1;33m\u001b[0m\u001b[1;33m\u001b[0m\u001b[0m\n\u001b[0m\u001b[0;32m     10\u001b[0m     \u001b[1;32mfor\u001b[0m \u001b[0mline\u001b[0m \u001b[1;32min\u001b[0m \u001b[0mf\u001b[0m\u001b[1;33m:\u001b[0m\u001b[1;33m\u001b[0m\u001b[1;33m\u001b[0m\u001b[0m\n\u001b[0;32m     11\u001b[0m         \u001b[0mline_content\u001b[0m \u001b[1;33m=\u001b[0m \u001b[0mline\u001b[0m\u001b[1;33m.\u001b[0m\u001b[0msplit\u001b[0m\u001b[1;33m(\u001b[0m\u001b[1;34m','\u001b[0m\u001b[1;33m)\u001b[0m\u001b[1;33m\u001b[0m\u001b[1;33m\u001b[0m\u001b[0m\n",
      "\u001b[1;31mFileNotFoundError\u001b[0m: [Errno 2] No such file or directory: './data/KittiGps_converted.txt'"
     ]
    }
   ],
   "source": [
    "import numpy as np\n",
    "import matplotlib.pyplot as plt\n",
    "\n",
    "filename = './data/KittiGps_converted.txt'\n",
    "i = 0\n",
    "x = []\n",
    "y = []\n",
    "t = []\n",
    "with open(filename) as f:\n",
    "    for line in f:\n",
    "        line_content = line.split(',')\n",
    "        if i != 0:\n",
    "            t.append(np.double(line_content[0]))\n",
    "            x.append(np.double(line_content[1]))\n",
    "            y.append(np.double(line_content[2]))\n",
    "        i= i+1\n",
    "\n",
    "plt.plot(x,y)\n",
    "plt.show()"
   ]
  },
  {
   "cell_type": "code",
   "execution_count": 3,
   "metadata": {},
   "outputs": [
    {
     "name": "stdout",
     "output_type": "stream",
     "text": [
      "2\n",
      "5\n",
      "8\n"
     ]
    }
   ],
   "source": [
    "for i in range(2,10,3):\n",
    "    print(i)"
   ]
  },
  {
   "cell_type": "code",
   "execution_count": 12,
   "metadata": {},
   "outputs": [],
   "source": [
    "inputfile = './data/floam_poses_output.txt'\n",
    "outputfile = './data/floam_tf_kitti_2011_09_30_drive_new.txt'\n",
    "\n",
    "title = [\"seq stamp\",\"frame_id\",\"position.x\",\"position.y\",\"position.z\",\"orientation.x\",\"orientation.y\",\"orientation.z\",\"orientation.w\"]\n",
    "with open(outputfile, 'w') as fwrite:\n",
    "    fwrite.write(' '.join(title))\n",
    "    fwrite.write('\\n')\n",
    "    with open(inputfile,'r') as fread:\n",
    "        next(fread)\n",
    "        for line in fread:\n",
    "            line_content = line.split(',')\n",
    "            line_len = len(line_content)\n",
    "            for i in range(5,line_len,10):\n",
    "                fwrite.write(' '.join(line_content[i:i+9]))\n",
    "                fwrite.write('\\n')\n",
    "                    #[str(line_content[i]),str(line_content[i+1]),str(line_content[i+2]),str(line_content[i+3]),str(line_content[i+4]),\n",
    "                    #str(line_content[i+5]),str(line_content[i+6]),str(line_content[i+7]),str(line_content[i+8]),str(line_content[i+9])])\n",
    "            \n",
    "    "
   ]
  },
  {
   "cell_type": "code",
   "execution_count": null,
   "metadata": {},
   "outputs": [],
   "source": []
  }
 ],
 "metadata": {
  "interpreter": {
   "hash": "01fb7ad8b53889584127f36b2ecead55bc5f69cee2f13ba05d49bbedca83a2ee"
  },
  "kernelspec": {
   "display_name": "Python 3.9.9 64-bit (windows store)",
   "language": "python",
   "name": "python3"
  },
  "language_info": {
   "codemirror_mode": {
    "name": "ipython",
    "version": 3
   },
   "file_extension": ".py",
   "mimetype": "text/x-python",
   "name": "python",
   "nbconvert_exporter": "python",
   "pygments_lexer": "ipython3",
   "version": "3.9.12"
  },
  "orig_nbformat": 4
 },
 "nbformat": 4,
 "nbformat_minor": 2
}
