{
 "cells": [
  {
   "cell_type": "code",
   "execution_count": 1,
   "id": "9d1e92d9-eb1f-4327-abac-d24ed246be0e",
   "metadata": {},
   "outputs": [],
   "source": [
    "import pandas as pd\n",
    "import matplotlib.pyplot as plt"
   ]
  },
  {
   "cell_type": "code",
   "execution_count": 2,
   "id": "cb38c996-123a-4921-b0fd-bb2c069a77ff",
   "metadata": {},
   "outputs": [],
   "source": [
    "raw_data = pd.read_csv(\"raw_tf.csv\", sep=\",\")"
   ]
  },
  {
   "cell_type": "code",
   "execution_count": 3,
   "id": "9ab4cc7c-c8b3-4c19-b458-3b603fd79a90",
   "metadata": {},
   "outputs": [
    {
     "data": {
      "text/html": [
       "<div>\n",
       "<style scoped>\n",
       "    .dataframe tbody tr th:only-of-type {\n",
       "        vertical-align: middle;\n",
       "    }\n",
       "\n",
       "    .dataframe tbody tr th {\n",
       "        vertical-align: top;\n",
       "    }\n",
       "\n",
       "    .dataframe thead th {\n",
       "        text-align: right;\n",
       "    }\n",
       "</style>\n",
       "<table border=\"1\" class=\"dataframe\">\n",
       "  <thead>\n",
       "    <tr style=\"text-align: right;\">\n",
       "      <th></th>\n",
       "      <th>%time</th>\n",
       "      <th>field.transforms0.header.seq</th>\n",
       "      <th>field.transforms0.header.stamp</th>\n",
       "      <th>field.transforms0.header.frame_id</th>\n",
       "      <th>field.transforms0.child_frame_id</th>\n",
       "      <th>field.transforms0.transform.translation.x</th>\n",
       "      <th>field.transforms0.transform.translation.y</th>\n",
       "      <th>field.transforms0.transform.translation.z</th>\n",
       "      <th>field.transforms0.transform.rotation.x</th>\n",
       "      <th>field.transforms0.transform.rotation.y</th>\n",
       "      <th>field.transforms0.transform.rotation.z</th>\n",
       "      <th>field.transforms0.transform.rotation.w</th>\n",
       "    </tr>\n",
       "  </thead>\n",
       "  <tbody>\n",
       "    <tr>\n",
       "      <th>0</th>\n",
       "      <td>1649114709411949157</td>\n",
       "      <td>0</td>\n",
       "      <td>1317398079239670991</td>\n",
       "      <td>world</td>\n",
       "      <td>base_link</td>\n",
       "      <td>0.0</td>\n",
       "      <td>0.0</td>\n",
       "      <td>0.0</td>\n",
       "      <td>0.002042</td>\n",
       "      <td>0.019</td>\n",
       "      <td>0.765073</td>\n",
       "      <td>0.64366</td>\n",
       "    </tr>\n",
       "    <tr>\n",
       "      <th>1</th>\n",
       "      <td>1649114709412527084</td>\n",
       "      <td>0</td>\n",
       "      <td>1317398079250214636</td>\n",
       "      <td>/world</td>\n",
       "      <td>/map</td>\n",
       "      <td>0.0</td>\n",
       "      <td>0.0</td>\n",
       "      <td>0.0</td>\n",
       "      <td>0.000000</td>\n",
       "      <td>0.000</td>\n",
       "      <td>0.000000</td>\n",
       "      <td>1.00000</td>\n",
       "    </tr>\n",
       "    <tr>\n",
       "      <th>2</th>\n",
       "      <td>1649114709422197580</td>\n",
       "      <td>0</td>\n",
       "      <td>1317398079260271559</td>\n",
       "      <td>/world</td>\n",
       "      <td>/map</td>\n",
       "      <td>0.0</td>\n",
       "      <td>0.0</td>\n",
       "      <td>0.0</td>\n",
       "      <td>0.000000</td>\n",
       "      <td>0.000</td>\n",
       "      <td>0.000000</td>\n",
       "      <td>1.00000</td>\n",
       "    </tr>\n",
       "    <tr>\n",
       "      <th>3</th>\n",
       "      <td>1649114709432942152</td>\n",
       "      <td>0</td>\n",
       "      <td>1317398079270369544</td>\n",
       "      <td>/world</td>\n",
       "      <td>/map</td>\n",
       "      <td>0.0</td>\n",
       "      <td>0.0</td>\n",
       "      <td>0.0</td>\n",
       "      <td>0.000000</td>\n",
       "      <td>0.000</td>\n",
       "      <td>0.000000</td>\n",
       "      <td>1.00000</td>\n",
       "    </tr>\n",
       "    <tr>\n",
       "      <th>4</th>\n",
       "      <td>1649114709444117307</td>\n",
       "      <td>0</td>\n",
       "      <td>1317398079280539367</td>\n",
       "      <td>/world</td>\n",
       "      <td>/map</td>\n",
       "      <td>0.0</td>\n",
       "      <td>0.0</td>\n",
       "      <td>0.0</td>\n",
       "      <td>0.000000</td>\n",
       "      <td>0.000</td>\n",
       "      <td>0.000000</td>\n",
       "      <td>1.00000</td>\n",
       "    </tr>\n",
       "  </tbody>\n",
       "</table>\n",
       "</div>"
      ],
      "text/plain": [
       "                 %time  field.transforms0.header.seq  \\\n",
       "0  1649114709411949157                             0   \n",
       "1  1649114709412527084                             0   \n",
       "2  1649114709422197580                             0   \n",
       "3  1649114709432942152                             0   \n",
       "4  1649114709444117307                             0   \n",
       "\n",
       "   field.transforms0.header.stamp field.transforms0.header.frame_id  \\\n",
       "0             1317398079239670991                             world   \n",
       "1             1317398079250214636                            /world   \n",
       "2             1317398079260271559                            /world   \n",
       "3             1317398079270369544                            /world   \n",
       "4             1317398079280539367                            /world   \n",
       "\n",
       "  field.transforms0.child_frame_id  field.transforms0.transform.translation.x  \\\n",
       "0                        base_link                                        0.0   \n",
       "1                             /map                                        0.0   \n",
       "2                             /map                                        0.0   \n",
       "3                             /map                                        0.0   \n",
       "4                             /map                                        0.0   \n",
       "\n",
       "   field.transforms0.transform.translation.y  \\\n",
       "0                                        0.0   \n",
       "1                                        0.0   \n",
       "2                                        0.0   \n",
       "3                                        0.0   \n",
       "4                                        0.0   \n",
       "\n",
       "   field.transforms0.transform.translation.z  \\\n",
       "0                                        0.0   \n",
       "1                                        0.0   \n",
       "2                                        0.0   \n",
       "3                                        0.0   \n",
       "4                                        0.0   \n",
       "\n",
       "   field.transforms0.transform.rotation.x  \\\n",
       "0                                0.002042   \n",
       "1                                0.000000   \n",
       "2                                0.000000   \n",
       "3                                0.000000   \n",
       "4                                0.000000   \n",
       "\n",
       "   field.transforms0.transform.rotation.y  \\\n",
       "0                                   0.019   \n",
       "1                                   0.000   \n",
       "2                                   0.000   \n",
       "3                                   0.000   \n",
       "4                                   0.000   \n",
       "\n",
       "   field.transforms0.transform.rotation.z  \\\n",
       "0                                0.765073   \n",
       "1                                0.000000   \n",
       "2                                0.000000   \n",
       "3                                0.000000   \n",
       "4                                0.000000   \n",
       "\n",
       "   field.transforms0.transform.rotation.w  \n",
       "0                                 0.64366  \n",
       "1                                 1.00000  \n",
       "2                                 1.00000  \n",
       "3                                 1.00000  \n",
       "4                                 1.00000  "
      ]
     },
     "execution_count": 3,
     "metadata": {},
     "output_type": "execute_result"
    }
   ],
   "source": [
    "raw_data.head()"
   ]
  },
  {
   "cell_type": "code",
   "execution_count": 4,
   "id": "b27c61ab-f70b-4218-b5b0-7c05c8616e54",
   "metadata": {},
   "outputs": [],
   "source": [
    "data = raw_data.loc[raw_data[\"field.transforms0.header.frame_id\"] == \"world\"]"
   ]
  },
  {
   "cell_type": "code",
   "execution_count": 5,
   "id": "3292537f-251f-47fa-bf15-453c6baa1287",
   "metadata": {},
   "outputs": [
    {
     "data": {
      "image/png": "[encoded data removed]",
      "text/plain": [
       "<Figure size 432x288 with 1 Axes>"
      ]
     },
     "metadata": {
      "needs_background": "light"
     },
     "output_type": "display_data"
    }
   ],
   "source": [
    "plt.plot(data[\"field.transforms0.transform.translation.x\"], data[\"field.transforms0.transform.translation.y\"], linewidth=10)\n",
    "plt.rcParams[\"figure.figsize\"] = (50, 50)\n",
    "plt.ylabel(\"Y\")\n",
    "plt.xlabel(\"X\")\n",
    "plt.show()"
   ]
  },
  {
   "cell_type": "code",
   "execution_count": 6,
   "id": "1cd4e898-a85a-4847-9f6d-5c1157bdf994",
   "metadata": {},
   "outputs": [],
   "source": [
    "data.to_csv(\"refined_tf.csv\")"
   ]
  },
  {
   "cell_type": "code",
   "execution_count": 8,
   "id": "9525dcd3-4ef0-46de-8b6e-20e404bd535f",
   "metadata": {},
   "outputs": [],
   "source": [
    "import csv\n",
    "csv_file = \"imu.csv\"\n",
    "txt_file = \"imu.txt\"\n",
    "with open(txt_file, \"w\") as my_output_file:\n",
    "    with open(csv_file, \"r\") as my_input_file:\n",
    "        [ my_output_file.write(\" \".join(row)+'\\n') for row in csv.reader(my_input_file)]\n",
    "    my_output_file.close()"
   ]
  }
 ],
 "metadata": {
  "kernelspec": {
   "display_name": "Python 3 (ipykernel)",
   "language": "python",
   "name": "python3"
  },
  "language_info": {
   "codemirror_mode": {
    "name": "ipython",
    "version": 3
   },
   "file_extension": ".py",
   "mimetype": "text/x-python",
   "name": "python",
   "nbconvert_exporter": "python",
   "pygments_lexer": "ipython3",
   "version": "3.9.7"
  }
 },
 "nbformat": 4,
 "nbformat_minor": 5
}
